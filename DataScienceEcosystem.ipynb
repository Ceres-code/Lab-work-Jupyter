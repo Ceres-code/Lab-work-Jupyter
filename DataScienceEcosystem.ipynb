{
 "cells": [
  {
   "cell_type": "code",
   "execution_count": null,
   "id": "588a1f59-fa3b-47ed-96b1-342aa222d2a8",
   "metadata": {},
   "outputs": [],
   "source": []
  },
  {
   "cell_type": "markdown",
   "id": "c76a74cd-cf64-4b3d-a2a7-be5283924685",
   "metadata": {
    "tags": []
   },
   "source": [
    "# Data Science Tools and Ecosystems"
   ]
  },
  {
   "cell_type": "markdown",
   "id": "351e8d41-a4a6-4d3d-a444-9553f4560423",
   "metadata": {
    "tags": []
   },
   "source": [
    "In this notebook, data science and tools are summarized"
   ]
  },
  {
   "cell_type": "markdown",
   "id": "f2753215-b763-42c8-a379-9d5e42880a59",
   "metadata": {
    "tags": []
   },
   "source": [
    "###### Some of the popular languages that data scientists use are:"
   ]
  },
  {
   "cell_type": "markdown",
   "id": "febb0665-8ec6-408d-bf99-a3390ddc8944",
   "metadata": {},
   "source": [
    "\n",
    "1. Python\n",
    "2. R\n",
    "3. Java"
   ]
  },
  {
   "cell_type": "markdown",
   "id": "97c2060d-9399-4675-acf7-1972bc32693d",
   "metadata": {},
   "source": [
    "Some of the commonly used libraries used by Data Scientists include:"
   ]
  },
  {
   "cell_type": "markdown",
   "id": "ca2ef6be-e759-4861-b7fb-f0aca2fbf88d",
   "metadata": {},
   "source": [
    "1. Matplotlib\n",
    "2. NumPy\n",
    "3. Pandas"
   ]
  },
  {
   "cell_type": "markdown",
   "id": "51afcb17-c2db-419a-9867-eb8a2284e48f",
   "metadata": {},
   "source": [
    "|Data Science Tools|\n",
    "|--------------------|\n",
    "|Jupyter|\n",
    "|RStudio|\n",
    "|Github|"
   ]
  },
  {
   "cell_type": "markdown",
   "id": "d9cc288c-bef3-4dd1-bbb7-703547c5cdf0",
   "metadata": {},
   "source": [
    "### Below are a few examples of evaluating arithmetic expressions in Python"
   ]
  },
  {
   "cell_type": "markdown",
   "id": "cd6bfb57-0687-454b-9a7f-47fa850ccb66",
   "metadata": {},
   "source": [
    "This a simple arithmetic expression to multiply then add integers"
   ]
  },
  {
   "cell_type": "code",
   "execution_count": 6,
   "id": "82ff6139-d7f6-497d-83c2-ca87ab94bc73",
   "metadata": {
    "tags": []
   },
   "outputs": [
    {
     "data": {
      "text/plain": [
       "17"
      ]
     },
     "execution_count": 6,
     "metadata": {},
     "output_type": "execute_result"
    }
   ],
   "source": [
    "(3*4)+5"
   ]
  },
  {
   "cell_type": "code",
   "execution_count": null,
   "id": "736285e6-d3f6-4032-9e8f-9d25bf0e0f32",
   "metadata": {},
   "outputs": [],
   "source": [
    "min= int(input(200))\n",
    "m=min//60\n",
    "h=min%60\n",
    "print(\"Hours\",h)\n",
    "print(\"minutes\",m)"
   ]
  },
  {
   "cell_type": "markdown",
   "id": "f1e72394-4af3-4cd1-8d5d-ed2a27896fd3",
   "metadata": {},
   "source": [
    "__Objectives:__"
   ]
  },
  {
   "cell_type": "markdown",
   "id": "3e3531d3-1fe3-4559-994f-119d6a4a7840",
   "metadata": {},
   "source": [
    "* Python\n",
    "* Java\n",
    "* R\n",
    "* Ruby"
   ]
  },
  {
   "cell_type": "markdown",
   "id": "44359963-df5b-47d0-9235-dea2c827703b",
   "metadata": {},
   "source": [
    "## Author\n",
    "Manuel H."
   ]
  },
  {
   "cell_type": "code",
   "execution_count": null,
   "id": "5bd5eb19-bfd1-4311-a789-daa42c1be49a",
   "metadata": {},
   "outputs": [],
   "source": []
  }
 ],
 "metadata": {
  "kernelspec": {
   "display_name": "Python",
   "language": "python",
   "name": "conda-env-python-py"
  },
  "language_info": {
   "codemirror_mode": {
    "name": "ipython",
    "version": 3
   },
   "file_extension": ".py",
   "mimetype": "text/x-python",
   "name": "python",
   "nbconvert_exporter": "python",
   "pygments_lexer": "ipython3",
   "version": "3.7.12"
  }
 },
 "nbformat": 4,
 "nbformat_minor": 5
}
